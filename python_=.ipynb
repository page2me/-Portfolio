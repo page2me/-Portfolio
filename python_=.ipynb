{
  "nbformat": 4,
  "nbformat_minor": 0,
  "metadata": {
    "colab": {
      "name": "python =.ipynb",
      "provenance": [],
      "collapsed_sections": [],
      "authorship_tag": "ABX9TyPvWSwd7FLJ4puVGFy9UBEq",
      "include_colab_link": true
    },
    "kernelspec": {
      "name": "python3",
      "display_name": "Python 3"
    },
    "language_info": {
      "name": "python"
    },
    "accelerator": "GPU"
  },
  "cells": [
    {
      "cell_type": "markdown",
      "metadata": {
        "id": "view-in-github",
        "colab_type": "text"
      },
      "source": [
        "<a href=\"https://colab.research.google.com/github/page2me/-Portfolio/blob/master/python_%3D.ipynb\" target=\"_parent\"><img src=\"https://colab.research.google.com/assets/colab-badge.svg\" alt=\"Open In Colab\"/></a>"
      ]
    },
    {
      "cell_type": "markdown",
      "source": [
        "**Python Variables**"
      ],
      "metadata": {
        "id": "wxZtuHtrizTX"
      }
    },
    {
      "cell_type": "code",
      "execution_count": null,
      "metadata": {
        "colab": {
          "base_uri": "https://localhost:8080/"
        },
        "id": "huMoCDPNikhW",
        "outputId": "2cd142fd-6f4d-4134-a1a8-1d789432bcc9"
      },
      "outputs": [
        {
          "output_type": "stream",
          "name": "stdout",
          "text": [
            "6\n",
            "wee\"rachai'\n"
          ]
        }
      ],
      "source": [
        "number = 6\n",
        "username = \"wee\\\"rachai'\"\n",
        "print(number)\n",
        "print(username)"
      ]
    },
    {
      "cell_type": "markdown",
      "source": [
        "[**Multiply In Python**](https://pythonguides.com/multiply-in-python/)"
      ],
      "metadata": {
        "id": "4aCtajZcty6e"
      }
    },
    {
      "cell_type": "code",
      "source": [
        "number = 20 * 3\n",
        "print(type(number))\n",
        "print('The product is: ',type(number))"
      ],
      "metadata": {
        "colab": {
          "base_uri": "https://localhost:8080/"
        },
        "id": "EIf46XXLt2Fo",
        "outputId": "85a09aaa-d8c2-44e2-92a0-9a91a34fd9ea"
      },
      "execution_count": null,
      "outputs": [
        {
          "output_type": "stream",
          "name": "stdout",
          "text": [
            "<class 'int'>\n",
            "The product is:  <class 'int'>\n"
          ]
        }
      ]
    },
    {
      "cell_type": "code",
      "source": [
        "number = 2.0 * 3\n",
        "print(type(number))\n",
        "print('The product is: ',type(number))"
      ],
      "metadata": {
        "colab": {
          "base_uri": "https://localhost:8080/"
        },
        "id": "Xs1M8K-UuHzT",
        "outputId": "f555761f-3cdc-4151-b810-57cd97123ed7"
      },
      "execution_count": null,
      "outputs": [
        {
          "output_type": "stream",
          "name": "stdout",
          "text": [
            "<class 'float'>\n",
            "The product is:  <class 'float'>\n"
          ]
        }
      ]
    },
    {
      "cell_type": "code",
      "source": [
        "username = \"weerachai\"\n",
        "number = username * 2\n",
        "print(type(number))\n",
        "print('The product is: ',number)"
      ],
      "metadata": {
        "colab": {
          "base_uri": "https://localhost:8080/"
        },
        "id": "5Sbc7Q5IuW93",
        "outputId": "960fa4aa-1a74-4a92-92bc-c80e6c1d5d18"
      },
      "execution_count": null,
      "outputs": [
        {
          "output_type": "stream",
          "name": "stdout",
          "text": [
            "<class 'str'>\n",
            "The product is:  weerachaiweerachai\n"
          ]
        }
      ]
    },
    {
      "cell_type": "markdown",
      "source": [
        "**Python User Input**"
      ],
      "metadata": {
        "id": "JepvK6gHjL5V"
      }
    },
    {
      "cell_type": "code",
      "source": [
        "username = input(\"Enter username:? \")\n",
        "print(\"Hello, \" + username)"
      ],
      "metadata": {
        "colab": {
          "base_uri": "https://localhost:8080/"
        },
        "id": "aI5ubTe9i58a",
        "outputId": "c211e922-72a2-434e-a38a-5b1eb29d6eb0"
      },
      "execution_count": null,
      "outputs": [
        {
          "output_type": "stream",
          "name": "stdout",
          "text": [
            "Enter username:? weerachai\n",
            "Hello, weerachai\n"
          ]
        }
      ]
    },
    {
      "cell_type": "code",
      "source": [
        "print('Enter username:')\n",
        "username = input()\n",
        "print('Hello,', username)"
      ],
      "metadata": {
        "colab": {
          "base_uri": "https://localhost:8080/"
        },
        "id": "YtVLbVH6jUxq",
        "outputId": "84250fc9-3251-4985-abd4-58cc7ce10a1e"
      },
      "execution_count": null,
      "outputs": [
        {
          "output_type": "stream",
          "name": "stdout",
          "text": [
            "Enter username:\n",
            "weerachai\n",
            "Hello, weerachai\n"
          ]
        }
      ]
    },
    {
      "cell_type": "markdown",
      "source": [
        "**Add item from user input into list in Python**"
      ],
      "metadata": {
        "id": "gIoafrlqjz3W"
      }
    },
    {
      "cell_type": "code",
      "source": [
        "usernames = [input(f\"Enter username{n+1}:? \") for n in range(6)]"
      ],
      "metadata": {
        "colab": {
          "base_uri": "https://localhost:8080/"
        },
        "id": "QIPsjckUjawR",
        "outputId": "64def4e0-42ed-4b63-ac3f-3d4562052284"
      },
      "execution_count": null,
      "outputs": [
        {
          "name": "stdout",
          "output_type": "stream",
          "text": [
            "Enter username1:? wee\n",
            "Enter username2:? ra\n",
            "Enter username3:? chai\n",
            "Enter username4:? yaem\n",
            "Enter username5:? va\n",
            "Enter username6:? chi\n"
          ]
        }
      ]
    },
    {
      "cell_type": "markdown",
      "source": [
        "**List of numbers as input from a user**"
      ],
      "metadata": {
        "id": "FOLxjqwUmOQj"
      }
    },
    {
      "cell_type": "code",
      "source": [
        "numbers = input(\"Enter list of number:? \").split()\n",
        "print(numbers)"
      ],
      "metadata": {
        "colab": {
          "base_uri": "https://localhost:8080/"
        },
        "id": "iOwmXJhgko7-",
        "outputId": "430072a2-047a-4236-96d7-34faea8ede91"
      },
      "execution_count": null,
      "outputs": [
        {
          "output_type": "stream",
          "name": "stdout",
          "text": [
            "Enter list of number:? 1 2 3 4 5 6\n",
            "['1', '2', '3', '4', '5', '6']\n"
          ]
        }
      ]
    },
    {
      "cell_type": "code",
      "source": [
        "numbers = input(\"Enter list of number:? \").split(',')\n",
        "print(numbers)"
      ],
      "metadata": {
        "colab": {
          "base_uri": "https://localhost:8080/"
        },
        "id": "OQCeS7pgmwJu",
        "outputId": "0da377ca-ca65-4e81-e745-f3530d4ac752"
      },
      "execution_count": null,
      "outputs": [
        {
          "output_type": "stream",
          "name": "stdout",
          "text": [
            "Enter list of number:? 1,2,3,4,5,6\n",
            "['1', '2', '3', '4', '5', '6']\n"
          ]
        }
      ]
    },
    {
      "cell_type": "markdown",
      "source": [
        "**Read CSV from user input**"
      ],
      "metadata": {
        "id": "0dYUgSugoBue"
      }
    },
    {
      "cell_type": "code",
      "source": [
        "students = [input(\"Read CSV:? \").split(',') for x in range(6)]\n",
        "print(\"\\n\".join([str(x) for x in students]))"
      ],
      "metadata": {
        "colab": {
          "base_uri": "https://localhost:8080/"
        },
        "id": "XzMQhRSqoPUi",
        "outputId": "ed390d7d-d7fd-40cb-cc63-b2e686e63529"
      },
      "execution_count": null,
      "outputs": [
        {
          "output_type": "stream",
          "name": "stdout",
          "text": [
            "Read CSV:? ID,Name,GPA,IC3,Cal1,Cal2\n",
            "Read CSV:? 002,ra,2.54,A,C,B\n",
            "Read CSV:? 003,chai,2.54,A,C,B\n",
            "Read CSV:? 004,yaem,2.54,A,C,B\n",
            "Read CSV:? 005,va,2.54,A,C,B\n",
            "Read CSV:? 006,chi,2.54,A,C,B\n",
            "['ID', 'Name', 'GPA', 'IC3', 'Cal1', 'Cal2']\n",
            "['002', 'ra', '2.54', 'A', 'C', 'B']\n",
            "['003', 'chai', '2.54', 'A', 'C', 'B']\n",
            "['004', 'yaem', '2.54', 'A', 'C', 'B']\n",
            "['005', 'va', '2.54', 'A', 'C', 'B']\n",
            "['006', 'chi', '2.54', 'A', 'C', 'B']\n"
          ]
        }
      ]
    },
    {
      "cell_type": "markdown",
      "source": [
        "\n",
        "```\n",
        "# File students.csv\n",
        "ID,Name,GPA,IC3,Cal1,Cal2\n",
        "002,ra,2.54,A,C,B\n",
        "003,chai,2.54,A,C,B\n",
        "004,yaem,2.54,A,C,B\n",
        "005,va,2.54,A,C,B\n",
        "006,chi,2.54,A,C,B\n",
        "```\n",
        "```\n",
        "# File: students.py\n",
        "students = [input().strip().split(',') for x in range(6)]\n",
        "print(\"\\n\".join([str(x) for x in students]))\n",
        "```\n",
        "```\n",
        "# cat students.csv | python students.py\n",
        "```\n",
        "```\n",
        "['ID', 'Name', 'GPA', 'IC3', 'Cal1', 'Cal2']\n",
        "['002', 'ra', '2.54', 'A', 'C', 'B']\n",
        "['003', 'chai', '2.54', 'A', 'C', 'B']\n",
        "['004', 'yaem', '2.54', 'A', 'C', 'B']\n",
        "['005', 'va', '2.54', 'A', 'C', 'B']\n",
        "['006', 'chi', '2.54', 'A', 'C', 'B']\n",
        "```\n",
        "\n"
      ],
      "metadata": {
        "id": "IlW2RRzktSom"
      }
    },
    {
      "cell_type": "markdown",
      "source": [
        "[**Python Anonymous/Lambda Function**](https://www.machinelearningplus.com/python/lambda-function/)"
      ],
      "metadata": {
        "id": "GV_cEaWuu1rp"
      }
    },
    {
      "cell_type": "markdown",
      "source": [
        "`จงเขียนโปรแกรมเพื่อหาค่าของเลขสี่หลัก (0-9999) ที่หาผลรวมของแต่ละหลักยกกำลังสี่ แล้วมีค่าเท่ากับเลขเดิม เช่น เลข 1634 จะได้ค่าเท่าเดิมดังนี (1^4+6^4+3^4+4^4 = 1+1296+81+256 = 1634)`"
      ],
      "metadata": {
        "id": "MEMhWawFzieZ"
      }
    },
    {
      "cell_type": "code",
      "source": [
        "# use anonymous/lambda function\n",
        "x = 1634\n",
        "y0 = lambda x : int(x)**4 # use CPU\n",
        "list(map(y0,str(x)))"
      ],
      "metadata": {
        "colab": {
          "base_uri": "https://localhost:8080/"
        },
        "id": "CaNDWrEOgjmf",
        "outputId": "d6b69e25-4604-4c12-cd12-3ec370cb3f84"
      },
      "execution_count": null,
      "outputs": [
        {
          "output_type": "execute_result",
          "data": {
            "text/plain": [
              "[1, 1296, 81, 256]"
            ]
          },
          "metadata": {},
          "execution_count": 118
        }
      ]
    },
    {
      "cell_type": "code",
      "source": [
        "# y^4, solution 1\n",
        "x = [1, 6, 3, 4] \n",
        "y = lambda x: x**4\n",
        "sum(map(y, x)) "
      ],
      "metadata": {
        "id": "rEwYDb56sdXL",
        "colab": {
          "base_uri": "https://localhost:8080/"
        },
        "outputId": "7e2cddf1-4518-4520-9ba8-cdeb16e93971"
      },
      "execution_count": null,
      "outputs": [
        {
          "output_type": "execute_result",
          "data": {
            "text/plain": [
              "1634"
            ]
          },
          "metadata": {},
          "execution_count": 117
        }
      ]
    },
    {
      "cell_type": "code",
      "source": [
        "# solution 1\n",
        "n = 9999\n",
        "y = lambda x : int(x)**4\n",
        "[x for x in range(n) if x == sum(map(y,str(x)))]"
      ],
      "metadata": {
        "colab": {
          "base_uri": "https://localhost:8080/"
        },
        "id": "5QOuwiWLwanB",
        "outputId": "85098127-f150-4051-ec0a-f30536094f05"
      },
      "execution_count": null,
      "outputs": [
        {
          "output_type": "execute_result",
          "data": {
            "text/plain": [
              "[0, 1, 1634, 8208, 9474]"
            ]
          },
          "metadata": {},
          "execution_count": 116
        }
      ]
    },
    {
      "cell_type": "code",
      "source": [
        "# ผลบวก\n",
        "from functools import reduce\n",
        "x = [1, 2, 3, 4]\n",
        "y = lambda x1, x0 : x1 + x0 \n",
        "reduce(y, x)"
      ],
      "metadata": {
        "colab": {
          "base_uri": "https://localhost:8080/"
        },
        "id": "OP5aJIRWwAgL",
        "outputId": "8debbc24-4779-4dd2-8867-7af44ad9c53f"
      },
      "execution_count": null,
      "outputs": [
        {
          "output_type": "execute_result",
          "data": {
            "text/plain": [
              "10"
            ]
          },
          "metadata": {},
          "execution_count": 115
        }
      ]
    },
    {
      "cell_type": "code",
      "source": [
        "# y^4, solution 2\n",
        "from functools import reduce\n",
        "y0 = lambda x: x**4\n",
        "y1 = lambda x1, x0: x1 + x0\n",
        "reduce(y1,map(y0,[1,6,3,4]))"
      ],
      "metadata": {
        "id": "IItuo7iXo3dP",
        "colab": {
          "base_uri": "https://localhost:8080/"
        },
        "outputId": "2d14085f-6890-4970-cea7-c1b10637dbe9"
      },
      "execution_count": null,
      "outputs": [
        {
          "output_type": "execute_result",
          "data": {
            "text/plain": [
              "1634"
            ]
          },
          "metadata": {},
          "execution_count": 114
        }
      ]
    },
    {
      "cell_type": "code",
      "source": [
        "# solution 2\n",
        "from functools import reduce\n",
        "n = 9999\n",
        "y0 = lambda x : int(x)**4\n",
        "y1 = lambda x1, x0 : x1 + x0 \n",
        "[x for x in range(n) if x == reduce(y1,map(y0,str(x)))]"
      ],
      "metadata": {
        "colab": {
          "base_uri": "https://localhost:8080/"
        },
        "id": "xYrp_JL2ToNt",
        "outputId": "ce93da4f-77e2-4a62-d0d1-4eebf5368d96"
      },
      "execution_count": null,
      "outputs": [
        {
          "output_type": "execute_result",
          "data": {
            "text/plain": [
              "[0, 1, 1634, 8208, 9474]"
            ]
          },
          "metadata": {},
          "execution_count": 113
        }
      ]
    },
    {
      "cell_type": "code",
      "source": [
        "# use list comprehensive\n",
        "x = 1634\n",
        "p = [0, 1, 16, 81, 256, 625, 1296, 2401, 4096, 6561] # use Memory\n",
        "[p[int(m)] for m in str(x)]"
      ],
      "metadata": {
        "colab": {
          "base_uri": "https://localhost:8080/"
        },
        "id": "GU0WYo2Cf-oY",
        "outputId": "f93234fb-c989-483c-8789-b538f3665256"
      },
      "execution_count": null,
      "outputs": [
        {
          "output_type": "execute_result",
          "data": {
            "text/plain": [
              "[1, 1296, 81, 256]"
            ]
          },
          "metadata": {},
          "execution_count": 112
        }
      ]
    },
    {
      "cell_type": "code",
      "source": [
        "# y^4, solution 3\n",
        "x = [1, 6, 3, 4] \n",
        "p = [0, 1, 16, 81, 256, 625, 1296, 2401, 4096, 6561]\n",
        "sum([p[n] for n in x])"
      ],
      "metadata": {
        "colab": {
          "base_uri": "https://localhost:8080/"
        },
        "id": "EZC6nsh7dzOF",
        "outputId": "a52947ce-c2ed-4adf-c89a-dad831c3d29e"
      },
      "execution_count": null,
      "outputs": [
        {
          "output_type": "execute_result",
          "data": {
            "text/plain": [
              "1634"
            ]
          },
          "metadata": {},
          "execution_count": 111
        }
      ]
    },
    {
      "cell_type": "code",
      "source": [
        "# solution 3\n",
        "n = 9999\n",
        "p = [0, 1, 16, 81, 256, 625, 1296, 2401, 4096, 6561]\n",
        "[x for x in range(n) if x == sum([p[int(m)] for m in str(x)])]"
      ],
      "metadata": {
        "colab": {
          "base_uri": "https://localhost:8080/"
        },
        "id": "0lMwWlOUegZ_",
        "outputId": "8a6a13eb-c194-482d-9127-80fc4f0cec1e"
      },
      "execution_count": null,
      "outputs": [
        {
          "output_type": "execute_result",
          "data": {
            "text/plain": [
              "[0, 1, 1634, 8208, 9474]"
            ]
          },
          "metadata": {},
          "execution_count": 110
        }
      ]
    },
    {
      "cell_type": "code",
      "source": [
        "# solution 4\n",
        "from functools import reduce\n",
        "n = 9999\n",
        "p = [0, 1, 16, 81, 256, 625, 1296, 2401, 4096, 6561]\n",
        "y1 = lambda x1, x0 : x1 + x0 \n",
        "[x for x in range(n) if x == reduce(y1,[p[int(m)] for m in str(x)])]"
      ],
      "metadata": {
        "colab": {
          "base_uri": "https://localhost:8080/"
        },
        "id": "yam0L9vnypzr",
        "outputId": "f4ed2585-8487-42ba-9340-239486c07562"
      },
      "execution_count": null,
      "outputs": [
        {
          "output_type": "execute_result",
          "data": {
            "text/plain": [
              "[0, 1, 1634, 8208, 9474]"
            ]
          },
          "metadata": {},
          "execution_count": 109
        }
      ]
    },
    {
      "cell_type": "markdown",
      "source": [
        "[**Recursive Functions in Python**](https://dotnettutorials.net/lesson/recursive-and-lambda-functions-in-python/)\n"
      ],
      "metadata": {
        "id": "fDe5tVFxnpyn"
      }
    },
    {
      "cell_type": "code",
      "source": [
        "# y^4, solution 4\n",
        "getSum = lambda l: l[0] + getSum(l[1:]) if l else 0\n",
        "x = [1, 6, 3, 4] \n",
        "p = [0, 1, 16, 81, 256, 625, 1296, 2401, 4096, 6561]\n",
        "getSum([p[n] for n in x])"
      ],
      "metadata": {
        "id": "a6iJZ18Ag-wF",
        "colab": {
          "base_uri": "https://localhost:8080/"
        },
        "outputId": "db011376-5cf5-4895-8181-a73a242ba8b4"
      },
      "execution_count": null,
      "outputs": [
        {
          "output_type": "execute_result",
          "data": {
            "text/plain": [
              "1634"
            ]
          },
          "metadata": {},
          "execution_count": 107
        }
      ]
    },
    {
      "cell_type": "code",
      "source": [
        ""
      ],
      "metadata": {
        "id": "6MTPMyjgoZ5b"
      },
      "execution_count": null,
      "outputs": []
    }
  ]
}